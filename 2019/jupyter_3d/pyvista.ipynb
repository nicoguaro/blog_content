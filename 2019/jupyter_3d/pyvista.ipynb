{
 "cells": [
  {
   "cell_type": "code",
   "execution_count": 1,
   "metadata": {},
   "outputs": [],
   "source": [
    "import numpy as np\n",
    "from numpy import pi, cos, sin, linspace, meshgrid\n",
    "import pyvista as pv\n",
    "from itkwidgets import view"
   ]
  },
  {
   "cell_type": "code",
   "execution_count": 2,
   "metadata": {},
   "outputs": [],
   "source": [
    "def x_(u, v):\n",
    "    x = -2 + 2*cos(v) - cos(u)\n",
    "    x[v<3*pi] = -2 + (2 + cos(u[v<3*pi]))*cos(v[v<3*pi])\n",
    "    x[v<2*pi] = cos(u[v<2*pi])*(2.5 - 1.5*cos(v[v<2*pi]))\n",
    "    return x\n",
    "\n",
    "def y_(u, v):\n",
    "    y = sin(u)\n",
    "    y[v<2*pi] = sin(u[v<2*pi])*(2.5 - 1.5*cos(v[v<2*pi]))\n",
    "    return y\n",
    "\n",
    "def z_(u, v):\n",
    "    z = -3*v + 12*pi\n",
    "    z[v<3*pi] = (2 + cos(u[v<3*pi]))*sin(v[v<3*pi]) + 3*pi\n",
    "    z[v<2*pi] = 3*v[v<2*pi] - 3*pi\n",
    "    z[v<pi] = -2.5*sin(v[v<pi])\n",
    "    return -z\n",
    "\n",
    " \n",
    "u = linspace(pi, 2*pi, 10)\n",
    "v = linspace(0, 4*pi, 38)\n",
    "u, v = meshgrid(u, v)\n",
    "\n",
    "x = x_(u, v)\n",
    "y = y_(u, v)\n",
    "z = z_(u, v)"
   ]
  },
  {
   "cell_type": "code",
   "execution_count": 3,
   "metadata": {},
   "outputs": [
    {
     "data": {
      "application/vnd.jupyter.widget-view+json": {
       "model_id": "5a98cf323c3c4b65acbcd6bb352782c4",
       "version_major": 2,
       "version_minor": 0
      },
      "text/plain": [
       "Viewer(cmap='Plasma (matplotlib)', geometries=[{'vtkClass': 'vtkPolyData', 'points': {'vtkClass': 'vtkPoints',…"
      ]
     },
     "metadata": {},
     "output_type": "display_data"
    }
   ],
   "source": [
    "grid = pv.StructuredGrid(x, y, z)\n",
    "grid[\"z\"] = z.T.ravel()\n",
    "view(geometries=grid, cmap=\"Plasma (matplotlib)\")"
   ]
  },
  {
   "cell_type": "code",
   "execution_count": null,
   "metadata": {},
   "outputs": [],
   "source": []
  }
 ],
 "metadata": {
  "kernelspec": {
   "display_name": "Python 3",
   "language": "python",
   "name": "python3"
  },
  "language_info": {
   "codemirror_mode": {
    "name": "ipython",
    "version": 3
   },
   "file_extension": ".py",
   "mimetype": "text/x-python",
   "name": "python",
   "nbconvert_exporter": "python",
   "pygments_lexer": "ipython3",
   "version": "3.7.3"
  },
  "varInspector": {
   "cols": {
    "lenName": 16,
    "lenType": 16,
    "lenVar": 40
   },
   "kernels_config": {
    "python": {
     "delete_cmd_postfix": "",
     "delete_cmd_prefix": "del ",
     "library": "var_list.py",
     "varRefreshCmd": "print(var_dic_list())"
    },
    "r": {
     "delete_cmd_postfix": ") ",
     "delete_cmd_prefix": "rm(",
     "library": "var_list.r",
     "varRefreshCmd": "cat(var_dic_list()) "
    }
   },
   "types_to_exclude": [
    "module",
    "function",
    "builtin_function_or_method",
    "instance",
    "_Feature"
   ],
   "window_display": false
  }
 },
 "nbformat": 4,
 "nbformat_minor": 2
}
